{
 "cells": [
  {
   "cell_type": "code",
   "execution_count": 1,
   "metadata": {},
   "outputs": [],
   "source": [
    "import requests\n",
    "import json\n"
   ]
  },
  {
   "cell_type": "code",
   "execution_count": 2,
   "metadata": {},
   "outputs": [
    {
     "name": "stdout",
     "output_type": "stream",
     "text": [
      "--- Starting Chat with Profiler Agent ---\n",
      "Type 'quit' at any time to exit.\n",
      "\n",
      "--- Error ---\n",
      "Could not connect to the Profiler Agent service at http://127.0.0.1:8000/v1/profiler/chat.\n",
      "Please make sure the FastAPI server is running.\n",
      "Error details: HTTPConnectionPool(host='127.0.0.1', port=8000): Max retries exceeded with url: /v1/profiler/chat (Caused by NewConnectionError('<urllib3.connection.HTTPConnection object at 0x107d931d0>: Failed to establish a new connection: [Errno 61] Connection refused'))\n"
     ]
    }
   ],
   "source": [
    "BASE_URL = \"http://127.0.0.1:8000\"\n",
    "ENDPOINT = \"/v1/profiler/chat\"\n",
    "URL = f\"{BASE_URL}{ENDPOINT}\"\n",
    "\n",
    "\n",
    "def main():\n",
    "    \"\"\"\n",
    "    Main function to run the interactive chat session with the Profiler Agent.\n",
    "    \"\"\"\n",
    "    print(\"--- Starting Chat with Profiler Agent ---\")\n",
    "    print(\"Type 'quit' at any time to exit.\")\n",
    "\n",
    "    # Initialize session variables\n",
    "    session_id = \"cli-session-1\"\n",
    "    user_id = None\n",
    "    conversation_history = []\n",
    "    profiling_complete = False\n",
    "    \n",
    "    # Start the conversation\n",
    "    message = \"Hi\"\n",
    "\n",
    "    while not profiling_complete:\n",
    "        payload = {\n",
    "            \"user_id\": user_id,\n",
    "            \"session_id\": session_id,\n",
    "            \"message\": message,\n",
    "            \"conversation_history\": conversation_history\n",
    "        }\n",
    "\n",
    "        try:\n",
    "            response = requests.post(URL, json=payload)\n",
    "            response.raise_for_status()  # Raise an exception for bad status codes (4xx or 5xx)\n",
    "\n",
    "            data = response.json()\n",
    "            \n",
    "            # Update state from response\n",
    "            user_id = data.get(\"user_id\")\n",
    "            agent_response = data.get(\"agent_response\")\n",
    "            profiling_complete = data.get(\"profiling_complete\", False)\n",
    "\n",
    "            print(f\"\\n🤖 Agent: {agent_response}\")\n",
    "\n",
    "            # Add to history\n",
    "            conversation_history.append({\"role\": \"user\", \"content\": message})\n",
    "            conversation_history.append({\"role\": \"agent\", \"content\": agent_response})\n",
    "\n",
    "\n",
    "            if profiling_complete:\n",
    "                print(\"\\n--- Profiling Complete ---\")\n",
    "                print(\"The agent has finished collecting your information.\")\n",
    "                break\n",
    "\n",
    "            # Get next message from user\n",
    "            message = input(\"🙂 You: \")\n",
    "            if message.lower() == 'quit':\n",
    "                print(\"--- Exiting session ---\")\n",
    "                break\n",
    "\n",
    "        except requests.exceptions.RequestException as e:\n",
    "            print(f\"\\n--- Error ---\")\n",
    "            print(f\"Could not connect to the Profiler Agent service at {URL}.\")\n",
    "            print(\"Please make sure the FastAPI server is running.\")\n",
    "            print(f\"Error details: {e}\")\n",
    "            break\n",
    "\n",
    "if __name__ == \"__main__\":\n",
    "    main() "
   ]
  },
  {
   "cell_type": "code",
   "execution_count": null,
   "metadata": {},
   "outputs": [],
   "source": []
  },
  {
   "cell_type": "code",
   "execution_count": null,
   "metadata": {},
   "outputs": [],
   "source": []
  },
  {
   "cell_type": "code",
   "execution_count": null,
   "metadata": {},
   "outputs": [],
   "source": []
  },
  {
   "cell_type": "code",
   "execution_count": null,
   "metadata": {},
   "outputs": [],
   "source": []
  },
  {
   "cell_type": "code",
   "execution_count": null,
   "metadata": {},
   "outputs": [],
   "source": []
  },
  {
   "cell_type": "code",
   "execution_count": null,
   "metadata": {},
   "outputs": [],
   "source": []
  },
  {
   "cell_type": "code",
   "execution_count": null,
   "metadata": {},
   "outputs": [],
   "source": []
  },
  {
   "cell_type": "code",
   "execution_count": null,
   "metadata": {},
   "outputs": [],
   "source": []
  },
  {
   "cell_type": "code",
   "execution_count": null,
   "metadata": {},
   "outputs": [],
   "source": []
  },
  {
   "cell_type": "code",
   "execution_count": null,
   "metadata": {},
   "outputs": [],
   "source": []
  }
 ],
 "metadata": {
  "kernelspec": {
   "display_name": "venv",
   "language": "python",
   "name": "python3"
  },
  "language_info": {
   "codemirror_mode": {
    "name": "ipython",
    "version": 3
   },
   "file_extension": ".py",
   "mimetype": "text/x-python",
   "name": "python",
   "nbconvert_exporter": "python",
   "pygments_lexer": "ipython3",
   "version": "3.12.0"
  }
 },
 "nbformat": 4,
 "nbformat_minor": 2
}
